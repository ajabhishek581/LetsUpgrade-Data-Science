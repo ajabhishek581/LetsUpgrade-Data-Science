{
 "cells": [
  {
   "cell_type": "markdown",
   "metadata": {},
   "source": [
    "# Question 1"
   ]
  },
  {
   "cell_type": "raw",
   "metadata": {},
   "source": [
    "B RAINBOW"
   ]
  },
  {
   "cell_type": "markdown",
   "metadata": {},
   "source": [
    "\n",
    "# Question 2"
   ]
  },
  {
   "cell_type": "code",
   "execution_count": 1,
   "metadata": {},
   "outputs": [
    {
     "name": "stdout",
     "output_type": "stream",
     "text": [
      "LETS UPGRADE\n"
     ]
    }
   ],
   "source": [
    "print(\"LETS UPGRADE\")"
   ]
  },
  {
   "cell_type": "markdown",
   "metadata": {},
   "source": [
    "# Question 3"
   ]
  },
  {
   "cell_type": "code",
   "execution_count": 2,
   "metadata": {},
   "outputs": [
    {
     "name": "stdout",
     "output_type": "stream",
     "text": [
      "Cost Price is    : 20\n",
      "Selling price is : 30\n",
      "Profit\n"
     ]
    }
   ],
   "source": [
    "cost=int(input(\"Cost Price is    : \"))\n",
    "sell=int(input(\"Selling price is : \"))\n",
    "if(cost>sell):\n",
    "    print(\"Loss\")\n",
    "elif(cost<sell):\n",
    "    print(\"Profit\")\n",
    "else:\n",
    "    print(\"Neither\")"
   ]
  },
  {
   "cell_type": "code",
   "execution_count": 3,
   "metadata": {},
   "outputs": [
    {
     "name": "stdout",
     "output_type": "stream",
     "text": [
      "Cost Price is    : 30\n",
      "Selling price is : 20\n",
      "Loss\n"
     ]
    }
   ],
   "source": [
    "cost=int(input(\"Cost Price is    : \"))\n",
    "sell=int(input(\"Selling price is : \"))\n",
    "if(cost>sell):\n",
    "    print(\"Loss\")\n",
    "elif(cost<sell):\n",
    "    print(\"Profit\")\n",
    "else:\n",
    "    print(\"Neither\")"
   ]
  },
  {
   "cell_type": "code",
   "execution_count": 5,
   "metadata": {},
   "outputs": [
    {
     "name": "stdout",
     "output_type": "stream",
     "text": [
      "Cost Price is    : 20\n",
      "Selling price is : 20\n",
      "Neither\n"
     ]
    }
   ],
   "source": [
    "cost=int(input(\"Cost Price is    : \"))\n",
    "sell=int(input(\"Selling price is : \"))\n",
    "if(cost>sell):\n",
    "    print(\"Loss\")\n",
    "elif(cost<sell):\n",
    "    print(\"Profit\")\n",
    "else:\n",
    "    print(\"Neither\")\n",
    "    "
   ]
  },
  {
   "cell_type": "markdown",
   "metadata": {},
   "source": [
    "# Question 4"
   ]
  },
  {
   "cell_type": "code",
   "execution_count": 6,
   "metadata": {},
   "outputs": [
    {
     "name": "stdout",
     "output_type": "stream",
     "text": [
      "Enter the Amount : 20\n",
      "1600\n"
     ]
    }
   ],
   "source": [
    "amt=int(input(\"Enter the Amount : \"))\n",
    "print(amt*80)"
   ]
  },
  {
   "cell_type": "code",
   "execution_count": 7,
   "metadata": {},
   "outputs": [
    {
     "name": "stdout",
     "output_type": "stream",
     "text": [
      "Enter the Amount : 50\n",
      "4000\n"
     ]
    }
   ],
   "source": [
    "amt=int(input(\"Enter the Amount : \"))\n",
    "print(amt*80)"
   ]
  },
  {
   "cell_type": "code",
   "execution_count": 8,
   "metadata": {},
   "outputs": [
    {
     "name": "stdout",
     "output_type": "stream",
     "text": [
      "Enter the Amount : 72\n",
      "5760\n"
     ]
    }
   ],
   "source": [
    "amt=int(input(\"Enter the Amount : \"))\n",
    "print(amt*80)"
   ]
  },
  {
   "cell_type": "code",
   "execution_count": 9,
   "metadata": {},
   "outputs": [
    {
     "name": "stdout",
     "output_type": "stream",
     "text": [
      "Enter the Amount : 7\n",
      "560\n"
     ]
    }
   ],
   "source": [
    "amt=int(input(\"Enter the Amount : \"))\n",
    "print(amt*80)"
   ]
  },
  {
   "cell_type": "code",
   "execution_count": 10,
   "metadata": {},
   "outputs": [
    {
     "name": "stdout",
     "output_type": "stream",
     "text": [
      "Enter the Amount : 95\n",
      "7600\n"
     ]
    }
   ],
   "source": [
    "amt=int(input(\"Enter the Amount : \"))\n",
    "print(amt*80)"
   ]
  },
  {
   "cell_type": "code",
   "execution_count": 11,
   "metadata": {},
   "outputs": [
    {
     "name": "stdout",
     "output_type": "stream",
     "text": [
      "Enter the Amount : 18\n",
      "1440\n"
     ]
    }
   ],
   "source": [
    "amt=int(input(\"Enter the Amount : \"))\n",
    "print(amt*80)"
   ]
  },
  {
   "cell_type": "code",
   "execution_count": null,
   "metadata": {},
   "outputs": [],
   "source": []
  }
 ],
 "metadata": {
  "kernelspec": {
   "display_name": "Python 3",
   "language": "python",
   "name": "python3"
  },
  "language_info": {
   "codemirror_mode": {
    "name": "ipython",
    "version": 3
   },
   "file_extension": ".py",
   "mimetype": "text/x-python",
   "name": "python",
   "nbconvert_exporter": "python",
   "pygments_lexer": "ipython3",
   "version": "3.7.3"
  }
 },
 "nbformat": 4,
 "nbformat_minor": 2
}
