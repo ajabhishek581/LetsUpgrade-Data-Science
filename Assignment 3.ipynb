{
 "cells": [
  {
   "cell_type": "code",
   "execution_count": 2,
   "metadata": {},
   "outputs": [],
   "source": [
    "import numpy as np"
   ]
  },
  {
   "cell_type": "code",
   "execution_count": 3,
   "metadata": {},
   "outputs": [
    {
     "name": "stdout",
     "output_type": "stream",
     "text": [
      "1.16.4\n"
     ]
    }
   ],
   "source": [
    "print(np.__version__)"
   ]
  },
  {
   "cell_type": "code",
   "execution_count": 4,
   "metadata": {},
   "outputs": [
    {
     "data": {
      "text/plain": [
       "array([1, 2, 3])"
      ]
     },
     "execution_count": 4,
     "metadata": {},
     "output_type": "execute_result"
    }
   ],
   "source": [
    "arr=np.array([1,2,3])\n",
    "arr"
   ]
  },
  {
   "cell_type": "markdown",
   "metadata": {},
   "source": [
    "# question 1"
   ]
  },
  {
   "cell_type": "code",
   "execution_count": 5,
   "metadata": {},
   "outputs": [],
   "source": [
    "arr=np.arange(2,50,3)"
   ]
  },
  {
   "cell_type": "code",
   "execution_count": 6,
   "metadata": {},
   "outputs": [
    {
     "name": "stdout",
     "output_type": "stream",
     "text": [
      "[ 2  5  8 11 14 17 20 23 26 29 32 35 38 41 44 47]\n"
     ]
    }
   ],
   "source": [
    "print(arr)"
   ]
  },
  {
   "cell_type": "markdown",
   "metadata": {},
   "source": [
    "# question 2"
   ]
  },
  {
   "cell_type": "code",
   "execution_count": 9,
   "metadata": {},
   "outputs": [
    {
     "name": "stdout",
     "output_type": "stream",
     "text": [
      "Enter element of first list : 4\n",
      "Enter element of first list : 1\n",
      "Enter element of first list : 2\n",
      "Enter element of first list : 5\n",
      "Enter element of first list : 3\n",
      "Enter element of second list : 6\n",
      "Enter element of second list : 9\n",
      "Enter element of second list : 8\n",
      "Enter element of second list : 7\n",
      "Enter element of second list : 0\n",
      "[0. 1. 2. 3. 4. 5. 6. 7. 8. 9.]\n"
     ]
    }
   ],
   "source": [
    "l1=[]\n",
    "l2=[]\n",
    "for i in range(0,5):    \n",
    "    a=int(input(\"Enter element of first list : \"))\n",
    "    l1.append(a)\n",
    "for i in range(0,5):    \n",
    "    a=int(input(\"Enter element of second list : \"))\n",
    "    l1.append(a)\n",
    "\n",
    "arr1=np.array(l1)\n",
    "arr2=np.array(l2)\n",
    "\n",
    "arr=np.concatenate((arr1, arr2))\n",
    "print(np.sort(arr))\n",
    "\n"
   ]
  },
  {
   "cell_type": "markdown",
   "metadata": {},
   "source": [
    "# Question 3"
   ]
  },
  {
   "cell_type": "code",
   "execution_count": 13,
   "metadata": {},
   "outputs": [
    {
     "name": "stdout",
     "output_type": "stream",
     "text": [
      "(3, 3)\n",
      "dimension is :  2\n",
      "Size is :  9\n"
     ]
    }
   ],
   "source": [
    "arr=np.array([[1,2,3],[4,5,6],[7,8,9]])\n",
    "print(arr.shape)\n",
    "print(\"dimension is : \",arr.ndim)\n",
    "print(\"Size is : \",arr.size)"
   ]
  },
  {
   "cell_type": "markdown",
   "metadata": {},
   "source": [
    "# Question 4"
   ]
  },
  {
   "cell_type": "code",
   "execution_count": 14,
   "metadata": {},
   "outputs": [
    {
     "name": "stdout",
     "output_type": "stream",
     "text": [
      "Shape:  (10,)\n",
      "Shape of 2D Array in row:  (1, 10)\n",
      "Shape of 2D Array in column:  (10, 1)\n"
     ]
    }
   ],
   "source": [
    "\n",
    "import numpy as np\n",
    "array1 = np.arange(10)\n",
    "print(\"Shape: \",array1.shape)\n",
    "#converting in row wise\n",
    "row_array = array1[np.newaxis, :]\n",
    "print(\"Shape of 2D Array in row: \",row_array.shape)\n",
    "#converting in column wise\n",
    "col_array = array1[:, np.newaxis]\n",
    "print(\"Shape of 2D Array in column: \",col_array.shape)"
   ]
  },
  {
   "cell_type": "markdown",
   "metadata": {},
   "source": [
    "# Question 5"
   ]
  },
  {
   "cell_type": "code",
   "execution_count": 15,
   "metadata": {},
   "outputs": [
    {
     "name": "stdout",
     "output_type": "stream",
     "text": [
      "Horizontal Stack :  [   1    4    9   16   25   36 7396 3025 4761 5625]\n",
      "Vertical Stack :  [[   1    4    9   16   25]\n",
      " [  36 7396 3025 4761 5625]]\n"
     ]
    }
   ],
   "source": [
    "array1 = np.square([1, 2, 3, 4, 5])\n",
    "array2 = np.square([6,86,55,69,75])\n",
    "\n",
    "print(\"Horizontal Stack : \", np.hstack((array1, array2)))\n",
    "print(\"Vertical Stack : \", np.vstack((array1, array2)))"
   ]
  },
  {
   "cell_type": "markdown",
   "metadata": {},
   "source": [
    "# Question 6"
   ]
  },
  {
   "cell_type": "code",
   "execution_count": 16,
   "metadata": {},
   "outputs": [
    {
     "name": "stdout",
     "output_type": "stream",
     "text": [
      "[[  1   1]\n",
      " [  2   2]\n",
      " [  3   1]\n",
      " [  5   2]\n",
      " [  6   3]\n",
      " [  7   1]\n",
      " [  8   2]\n",
      " [  9   1]\n",
      " [ 15   1]\n",
      " [ 25   1]\n",
      " [ 36   1]\n",
      " [ 37   1]\n",
      " [ 42   1]\n",
      " [ 46   1]\n",
      " [ 77   1]\n",
      " [ 85   1]\n",
      " [ 96   1]\n",
      " [122   1]\n",
      " [365   1]]\n"
     ]
    }
   ],
   "source": [
    "import numpy as np\n",
    "array1 = np.array([2,5,3,7,6,9,8,25,36,42,15,6,6,5,1,2,85,96,37,46,8,122,365,77])\n",
    "\n",
    "unique, counts = np.unique(array1, return_counts=True)\n",
    "array2 = np.asarray((unique, counts)).T\n",
    "print(array2)"
   ]
  },
  {
   "cell_type": "code",
   "execution_count": null,
   "metadata": {},
   "outputs": [],
   "source": []
  }
 ],
 "metadata": {
  "kernelspec": {
   "display_name": "Python 3",
   "language": "python",
   "name": "python3"
  },
  "language_info": {
   "codemirror_mode": {
    "name": "ipython",
    "version": 3
   },
   "file_extension": ".py",
   "mimetype": "text/x-python",
   "name": "python",
   "nbconvert_exporter": "python",
   "pygments_lexer": "ipython3",
   "version": "3.7.3"
  }
 },
 "nbformat": 4,
 "nbformat_minor": 2
}
