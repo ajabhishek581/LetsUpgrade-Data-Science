{
 "cells": [
  {
   "cell_type": "markdown",
   "metadata": {},
   "source": [
    "# Question 1"
   ]
  },
  {
   "cell_type": "code",
   "execution_count": 1,
   "metadata": {},
   "outputs": [
    {
     "name": "stdout",
     "output_type": "stream",
     "text": [
      "Enter the number:2\n",
      "Enter the number:4\n",
      "Enter the number:6\n",
      "Enter the number:9\n",
      "Enter the number:3\n",
      "Enter the number:5\n",
      "Enter the number:7\n",
      "Enter the number:6\n",
      "Enter the number:9\n",
      "Enter the number:8\n",
      "[2, 4, 6, 6, 8] "
     ]
    }
   ],
   "source": [
    "l=[]\n",
    "for i in range(10):\n",
    "    a=int(input(\"Enter the number:\"))\n",
    "    if(a%2==0):\n",
    "        l.append(a)\n",
    "print(l,end=\" \")"
   ]
  },
  {
   "cell_type": "markdown",
   "metadata": {},
   "source": [
    "# Question 2"
   ]
  },
  {
   "cell_type": "code",
   "execution_count": 2,
   "metadata": {},
   "outputs": [
    {
     "name": "stdout",
     "output_type": "stream",
     "text": [
      "[2, 3, 4, 5, 6, 'abhishek']\n",
      "[2, 3, 4, 5]\n",
      "[3, 4]\n",
      "[2, 4, 6]\n",
      "[2, 3, 4, 5, 6, 9]\n",
      "\n",
      "odd number is : \n",
      "3 5 9 \n",
      "\n",
      "Factorial of each number is : \n",
      "2 ! = 2\n",
      "3 ! = 6\n",
      "4 ! = 24\n",
      "5 ! = 120\n",
      "6 ! = 720\n",
      "9 ! = 362880\n",
      "\n",
      "\n",
      "Maximum is :  9\n",
      "\n",
      "\n",
      "Minimum is :  2\n"
     ]
    }
   ],
   "source": [
    "ll=[2,3,4,5,6]\n",
    "ll.append(\"abhishek\")\n",
    "\n",
    "print(ll)\n",
    "\n",
    "print(ll[0:4])\n",
    "print(ll[-5:-3])\n",
    "print(ll[0:6:2])\n",
    "ll[5]=9\n",
    "print(ll)\n",
    "\n",
    "\n",
    "print(\"\\nodd number is : \")\n",
    "for i in ll:\n",
    "    if(i%2!=0):\n",
    "        print(i,end=\" \")\n",
    "print('\\n')\n",
    "\n",
    "print(\"Factorial of each number is : \")\n",
    "def fact(i):\n",
    "    f=1\n",
    "    for i in range(1,i+1):\n",
    "        f=f*i\n",
    "    return f\n",
    "for i in ll:\n",
    "    print(i,\"! =\",fact(i))\n",
    "    \n",
    "print('\\n')\n",
    "print(\"Maximum is : \",max(ll))\n",
    "\n",
    "print('\\n')\n",
    "print(\"Minimum is : \",min(ll))\n"
   ]
  },
  {
   "cell_type": "markdown",
   "metadata": {},
   "source": [
    "# Question 3"
   ]
  },
  {
   "cell_type": "code",
   "execution_count": 3,
   "metadata": {},
   "outputs": [
    {
     "name": "stdout",
     "output_type": "stream",
     "text": [
      "enter the number : 4\n",
      "{1: 1, 2: 4, 3: 9, 4: 16}\n"
     ]
    }
   ],
   "source": [
    "dict={}\n",
    "n=int(input(\"enter the number : \"))\n",
    "for i in range(1,n+1):\n",
    "    dict[i]=i*i\n",
    "print(dict)"
   ]
  },
  {
   "cell_type": "code",
   "execution_count": 4,
   "metadata": {},
   "outputs": [
    {
     "name": "stdout",
     "output_type": "stream",
     "text": [
      "enter the number : 8\n",
      "{1: 1, 2: 4, 3: 9, 4: 16, 5: 25, 6: 36, 7: 49, 8: 64}\n"
     ]
    }
   ],
   "source": [
    "dict={}\n",
    "n=int(input(\"enter the number : \"))\n",
    "for i in range(1,n+1):\n",
    "    dict[i]=i*i\n",
    "print(dict)"
   ]
  },
  {
   "cell_type": "markdown",
   "metadata": {},
   "source": [
    "# Question 4"
   ]
  },
  {
   "cell_type": "code",
   "execution_count": 1,
   "metadata": {},
   "outputs": [
    {
     "name": "stdout",
     "output_type": "stream",
     "text": [
      "Number of directions : 4\n",
      "up 5\n",
      "down 3\n",
      "left 3\n",
      "right 2\n",
      "2\n"
     ]
    }
   ],
   "source": [
    "pos = {\n",
    "    \"x\": 0, \n",
    "    \"y\": 0\n",
    "}\n",
    "n = int(input(\"Number of directions : \"))\n",
    "for i in range(n):\n",
    "    val=input()\n",
    "    val=val.lower()\n",
    "    direction,steps=val.split()\n",
    "    if direction == \"up\":\n",
    "        pos[\"y\"] += int(steps)\n",
    "    elif direction == \"down\":\n",
    "        pos[\"y\"] -= int(steps)\n",
    "    elif direction == \"left\":\n",
    "        pos[\"x\"] -= int(steps)\n",
    "    elif direction == \"right\":\n",
    "        pos[\"x\"] += int(steps)\n",
    "print (int(round((pos[\"x\"]**2 + pos[\"y\"]**2)**0.5)))"
   ]
  },
  {
   "cell_type": "code",
   "execution_count": null,
   "metadata": {},
   "outputs": [],
   "source": []
  },
  {
   "cell_type": "code",
   "execution_count": null,
   "metadata": {},
   "outputs": [],
   "source": []
  }
 ],
 "metadata": {
  "kernelspec": {
   "display_name": "Python 3",
   "language": "python",
   "name": "python3"
  },
  "language_info": {
   "codemirror_mode": {
    "name": "ipython",
    "version": 3
   },
   "file_extension": ".py",
   "mimetype": "text/x-python",
   "name": "python",
   "nbconvert_exporter": "python",
   "pygments_lexer": "ipython3",
   "version": "3.7.3"
  }
 },
 "nbformat": 4,
 "nbformat_minor": 2
}
